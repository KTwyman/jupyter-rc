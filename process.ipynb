{
 "cells": [
  {
   "cell_type": "code",
   "execution_count": 2,
   "metadata": {},
   "outputs": [],
   "source": [
    "from subprocess import check_call, check_output, CalledProcessError, DEVNULL, PIPE, Popen\n",
    "import sys\n",
    "\n",
    "\n",
    "def run(*args, output=False, stdout=sys.stdout, stderr=sys.stderr, **kwargs):\n",
    "    \"\"\"Print a command before running it (converting all args to strs as well; useful for Paths in particular)\"\"\"\n",
    "    cmd = [ str(arg) for arg in args ]\n",
    "    print('Running: %s' % ' '.join(cmd))\n",
    "    if output:\n",
    "        return check_output(cmd, **kwargs).decode()\n",
    "    else:\n",
    "        check_call(cmd, stdout=stdout, stderr=stderr, **kwargs)\n",
    "\n",
    "def success(*args, stdout=DEVNULL, stderr=DEVNULL):\n",
    "    try:\n",
    "        check_call(args, stdout=stdout, stderr=stderr)\n",
    "        return True\n",
    "    except CalledProcessError:\n",
    "        return False\n",
    "\n",
    "\n",
    "def output(cmd, stderr=None):\n",
    "    kwargs = {}\n",
    "    if stderr:\n",
    "        kwargs['stderr'] = stderr\n",
    "\n",
    "    return check_output(cmd, **kwargs).decode()\n",
    "\n",
    "\n",
    "def lines(cmd, stderr=None, keep_empty_last_line=False):\n",
    "    out = output(cmd, stderr)\n",
    "    lines = out.split('\\n')\n",
    "    if lines and lines[-1] == '' and not keep_empty_last_line:\n",
    "        lines = lines[:-1]\n",
    "    return lines\n",
    "\n",
    "\n",
    "_lines = lines\n",
    "def line(cmd, stderr=None, empty_ok=False):\n",
    "    lines = _lines(cmd, stderr)\n",
    "    num_lines = len(lines)\n",
    "    empty = num_lines == 0\n",
    "    expected = '0 or 1' if empty_ok else '1'\n",
    "    if (empty and not empty_ok) or num_lines > 1:\n",
    "        raise Exception('Found %d lines; expected %s:\\n\\t%s' % (num_lines, expected, '\\n\\t'.join(lines)))\n",
    "    if empty:\n",
    "        return None\n",
    "    return lines[0]"
   ]
  }
 ],
 "metadata": {
  "kernelspec": {
   "display_name": "jupyter-3.8.2",
   "language": "python",
   "name": "jupyter-3.8.2"
  },
  "language_info": {
   "codemirror_mode": {
    "name": "ipython",
    "version": 3
   },
   "file_extension": ".py",
   "mimetype": "text/x-python",
   "name": "python",
   "nbconvert_exporter": "python",
   "pygments_lexer": "ipython3",
   "version": "3.8.2"
  }
 },
 "nbformat": 4,
 "nbformat_minor": 2
}
