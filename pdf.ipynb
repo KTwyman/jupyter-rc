{
 "cells": [
  {
   "cell_type": "code",
   "execution_count": 1,
   "metadata": {},
   "outputs": [],
   "source": [
    "from sys import executable as python\n",
    "!{python} -m pip install -q reportlab==3.5.42 pyPDF2==1.26.0"
   ]
  },
  {
   "cell_type": "code",
   "execution_count": 2,
   "metadata": {},
   "outputs": [],
   "source": [
    "from PyPDF2 import PdfFileWriter, PdfFileReader\n",
    "from io import BytesIO\n",
    "from reportlab.pdfgen import canvas\n",
    "from reportlab.lib.pagesizes import letter\n",
    "from subprocess import check_output"
   ]
  },
  {
   "cell_type": "code",
   "execution_count": 3,
   "metadata": {},
   "outputs": [],
   "source": [
    "def maybe_open_pdf(path, open_pdf):\n",
    "    if open_pdf:\n",
    "        check_output(['open',path])"
   ]
  },
  {
   "cell_type": "code",
   "execution_count": 4,
   "metadata": {},
   "outputs": [],
   "source": [
    "def write(path, out, *args, page=0, open_pdf=False):\n",
    "    path = str(path)\n",
    "    out = str(out)\n",
    "    page_idx=page\n",
    "\n",
    "    if isinstance(args[0], int) and isinstance(args[1], int) and isinstance(args[2], str):\n",
    "        args = [args]\n",
    "    \n",
    "    packet = BytesIO()\n",
    "    # create a new PDF with Reportlab\n",
    "    can = canvas.Canvas(packet, pagesize=letter)\n",
    "    \n",
    "    for x, y, s in args:\n",
    "        can.drawString(x, y, s)\n",
    "    \n",
    "    can.save()\n",
    "\n",
    "    #move to the beginning of the StringIO buffer\n",
    "    packet.seek(0)\n",
    "    new_pdf = PdfFileReader(packet)\n",
    "    # read your existing PDF\n",
    "    existing_pdf = PdfFileReader(open(path, \"rb\"))\n",
    "    output = PdfFileWriter()\n",
    "    \n",
    "    # add the \"watermark\" (which is the new pdf) on the existing page\n",
    "    page = existing_pdf.getPage(page_idx)\n",
    "    page.mergePage(new_pdf.getPage(page_idx))\n",
    "    output.addPage(page)\n",
    "\n",
    "    # finally, write \"output\" to a real file\n",
    "    outputStream = open(out, \"wb\")\n",
    "    output.write(outputStream)\n",
    "    outputStream.close()\n",
    "    \n",
    "    maybe_open_pdf(out, open_pdf)"
   ]
  },
  {
   "cell_type": "code",
   "execution_count": 5,
   "metadata": {},
   "outputs": [],
   "source": [
    "from pathlib import Path\n",
    "def cat(inputs, output, open_pdf=False):\n",
    "    '''https://stackoverflow.com/a/3444735'''\n",
    "    input_streams = []\n",
    "    try:\n",
    "        # First open all the files, then produce the output file, and\n",
    "        # finally close the input files. This is necessary because\n",
    "        # the data isn't read from the input files until the write\n",
    "        # operation. Thanks to\n",
    "        # https://stackoverflow.com/questions/6773631/problem-with-closing-python-pypdf-writing-getting-a-valueerror-i-o-operation/6773733#6773733\n",
    "        for input in inputs:\n",
    "            input = Path(input)\n",
    "            input_streams.append(input.open('rb'))\n",
    "        writer = PdfFileWriter()\n",
    "        for reader in map(PdfFileReader, input_streams):\n",
    "            for n in range(reader.getNumPages()):\n",
    "                writer.addPage(reader.getPage(n))\n",
    "\n",
    "        if isinstance(output, Path):\n",
    "            with output.open('wb') as f:\n",
    "                writer.write(f)\n",
    "        elif isinstance(output, str):\n",
    "            with open(output, 'wb') as f:\n",
    "                writer.write(f)\n",
    "        else:\n",
    "            writer.write(output)\n",
    "    finally:\n",
    "        for f in input_streams:\n",
    "            f.close()\n",
    "    \n",
    "    maybe_open_pdf(output, open_pdf)"
   ]
  }
 ],
 "metadata": {
  "kernelspec": {
   "display_name": "insurance-3.8.1",
   "language": "python",
   "name": "insurance-3.8.1"
  },
  "language_info": {
   "codemirror_mode": {
    "name": "ipython",
    "version": 3
   },
   "file_extension": ".py",
   "mimetype": "text/x-python",
   "name": "python",
   "nbconvert_exporter": "python",
   "pygments_lexer": "ipython3",
   "version": "3.8.1"
  }
 },
 "nbformat": 4,
 "nbformat_minor": 2
}
