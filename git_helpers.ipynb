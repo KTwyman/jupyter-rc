{
 "cells": [
  {
   "cell_type": "code",
   "execution_count": 2,
   "metadata": {},
   "outputs": [
    {
     "name": "stdout",
     "output_type": "stream",
     "text": [
      "Importing Jupyter notebook from process.ipynb\n"
     ]
    }
   ],
   "source": [
    "import nbimporter\n",
    "from process import run, line\n",
    "\n",
    "\n",
    "def branch_exists(branch):\n",
    "    return check('git','show-ref','--verify','--quiet',f'refs/heads/{branch}')\n",
    "\n",
    "def current_branch():\n",
    "    return line('git','symbolic-ref','-q','--short','HEAD')"
   ]
  }
 ],
 "metadata": {
  "kernelspec": {
   "display_name": "3.8.2",
   "language": "python",
   "name": "3.8.2"
  },
  "language_info": {
   "codemirror_mode": {
    "name": "ipython",
    "version": 3
   },
   "file_extension": ".py",
   "mimetype": "text/x-python",
   "name": "python",
   "nbconvert_exporter": "python",
   "pygments_lexer": "ipython3",
   "version": "3.8.2"
  }
 },
 "nbformat": 4,
 "nbformat_minor": 2
}
