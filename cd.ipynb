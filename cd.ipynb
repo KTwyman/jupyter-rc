{
 "cells": [
  {
   "cell_type": "code",
   "execution_count": null,
   "metadata": {},
   "outputs": [],
   "source": [
    "from os import chdir, getcwd\n",
    "from pathlib import Path\n",
    "\n",
    "\n",
    "class cd:\n",
    "    \"\"\"Context manager for changing the current working directory\"\"\"\n",
    "    def __init__(self, path):\n",
    "        path = Path(path)\n",
    "        self.path = path.expanduser()\n",
    "\n",
    "    def __enter__(self):\n",
    "        self.prevPath = Path(getcwd())\n",
    "        chdir(str(self.path))\n",
    "\n",
    "    def __exit__(self, etype, value, traceback):\n",
    "        chdir(str(self.prevPath))"
   ]
  }
 ],
 "metadata": {
  "kernelspec": {
   "display_name": "jupyter-3.8.2",
   "language": "python",
   "name": "jupyter-3.8.2"
  },
  "language_info": {
   "codemirror_mode": {
    "name": "ipython",
    "version": 3
   },
   "file_extension": ".py",
   "mimetype": "text/x-python",
   "name": "python",
   "nbconvert_exporter": "python",
   "pygments_lexer": "ipython3",
   "version": "3.8.2"
  }
 },
 "nbformat": 4,
 "nbformat_minor": 2
}
