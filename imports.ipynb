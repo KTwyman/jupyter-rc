{
 "cells": [
  {
   "cell_type": "markdown",
   "metadata": {},
   "source": [
    "Common Jupyter imports and helpers to wildcard import from other notebooks"
   ]
  },
  {
   "cell_type": "code",
   "execution_count": 1,
   "metadata": {},
   "outputs": [],
   "source": [
    "from pathlib import Path\n",
    "from dateutil.parser import parse\n",
    "from datetime import datetime as dt, date\n",
    "\n",
    "from sys import stdout, stderr, executable as python\n",
    "from os import cpu_count\n",
    "from os.path import dirname, basename\n",
    "\n",
    "from contextlib import contextmanager\n",
    "from functools import partial"
   ]
  },
  {
   "cell_type": "code",
   "execution_count": 2,
   "metadata": {},
   "outputs": [],
   "source": [
    "from subprocess import check_call, check_output, PIPE, Popen\n",
    "def run(*args, output=True, **kwargs):\n",
    "    cmd = [ str(arg) for arg in args ]\n",
    "    if output:\n",
    "        return check_output(cmd, **kwargs)\n",
    "    else:\n",
    "        check_call(cmd, **kwargs)"
   ]
  },
  {
   "cell_type": "code",
   "execution_count": 3,
   "metadata": {},
   "outputs": [],
   "source": [
    "import pandas as pd\n",
    "from pandas import \\\n",
    "    concat, DataFrame as DF, Series, \\\n",
    "    isna, \\\n",
    "    read_csv, read_sql, \\\n",
    "    to_datetime as to_dt, Timedelta as Δ\n",
    "\n",
    "def display(r=None, c=None):\n",
    "    if r:\n",
    "        pd.options.display.max_rows = r\n",
    "    if c:\n",
    "        pd.options.display.max_columns = c\n",
    "\n",
    "display(100, 100)\n",
    "\n",
    "def sxs(*dfs, **kwargs):\n",
    "    '''Concat some DataFrames \"side by side\"'''\n",
    "    return concat(dfs, axis=1, **kwargs)"
   ]
  },
  {
   "cell_type": "code",
   "execution_count": 4,
   "metadata": {},
   "outputs": [],
   "source": [
    "import numpy as np\n",
    "from numpy import concatenate, array, ndarray, matrix, nan"
   ]
  }
 ],
 "metadata": {
  "kernelspec": {
   "display_name": "jupyter-3.8.2",
   "language": "python",
   "name": "jupyter-3.8.2"
  },
  "language_info": {
   "codemirror_mode": {
    "name": "ipython",
    "version": 3
   },
   "file_extension": ".py",
   "mimetype": "text/x-python",
   "name": "python",
   "nbconvert_exporter": "python",
   "pygments_lexer": "ipython3",
   "version": "3.8.2"
  }
 },
 "nbformat": 4,
 "nbformat_minor": 2
}
