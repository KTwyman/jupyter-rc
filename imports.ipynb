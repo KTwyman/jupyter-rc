{
 "cells": [
  {
   "cell_type": "markdown",
   "metadata": {},
   "source": [
    "# imports\n",
    "Common Jupyter imports and helpers to wildcard import from other notebooks"
   ]
  },
  {
   "cell_type": "markdown",
   "metadata": {},
   "source": [
    "## stdlib\n",
    "Common imports (and associated helpers) from the Python standard library:"
   ]
  },
  {
   "cell_type": "markdown",
   "metadata": {},
   "source": [
    "### `contextlib`"
   ]
  },
  {
   "cell_type": "code",
   "execution_count": null,
   "metadata": {},
   "outputs": [],
   "source": [
    "from contextlib import AbstractContextManager, contextmanager, nullcontext, suppress\n",
    "\n",
    "class catch(AbstractContextManager):\n",
    "    def __init__(self, *excs):\n",
    "        self.excs = excs\n",
    "\n",
    "    def __enter__(self, *args):\n",
    "        print(f'__enter__: {args}')\n",
    "        \n",
    "    def __exit__(self, exc_type, exc_value, traceback):\n",
    "        print(f'__exit__: {exc_type=}, {exc_value=} ({isinstance(exc_value, NameError)})')\n",
    "        if not exc_type:\n",
    "            if len(self.excs) == 1:\n",
    "                raise AssertionError(f'No {self.excs[0].__name__} was thrown')\n",
    "            else:\n",
    "                raise AssertionError(f'None of {\",\".join([e.__name__ for e in self.excs])} were thrown')\n",
    "        \n",
    "        if not [ isinstance(exc_value, exc) for exc in self.excs ]:\n",
    "            raise exc_value\n",
    "\n",
    "        return True\n",
    "\n",
    "no = catch(NameError)"
   ]
  },
  {
   "cell_type": "markdown",
   "metadata": {},
   "source": [
    "### date/time"
   ]
  },
  {
   "cell_type": "code",
   "execution_count": null,
   "metadata": {},
   "outputs": [],
   "source": [
    "from dateutil.parser import parse\n",
    "from datetime import datetime as dt, date\n",
    "from pytz import UTC\n",
    "now = dt.now()\n",
    "today = now.strftime('%Y-%m-%d')"
   ]
  },
  {
   "cell_type": "markdown",
   "metadata": {},
   "source": [
    "### Paths"
   ]
  },
  {
   "cell_type": "code",
   "execution_count": null,
   "metadata": {},
   "outputs": [],
   "source": [
    "from pathlib import Path\n",
    "def mkdir(path, *args, **kwargs):\n",
    "    os.mkdirs(str(path), *args, **kwargs)\n",
    "    return path\n",
    "\n",
    "def mkpar(path, *args, **kwargs):\n",
    "    path.parent.mkdir(exist_ok=True, parents=True)\n",
    "    return path"
   ]
  },
  {
   "cell_type": "markdown",
   "metadata": {},
   "source": [
    "### Other"
   ]
  },
  {
   "cell_type": "code",
   "execution_count": null,
   "metadata": {},
   "outputs": [],
   "source": [
    "from dataclasses import dataclass\n",
    "\n",
    "try:\n",
    "    from functools import cached_property\n",
    "except ImportError:\n",
    "    try:\n",
    "        from cached_property import cached_property\n",
    "    except ImportError as e:\n",
    "        pass\n",
    "\n",
    "from functools import partial, lru_cache, namedtuple, reduce, singledispatch, singledispatchmethod\n",
    "\n",
    "from itertools import combinations, combinations_with_replacement, permutations\n",
    "import json\n",
    "\n",
    "import os\n",
    "from os import cpu_count\n",
    "from os.path import dirname, basename\n",
    "\n",
    "from re import match\n",
    "\n",
    "from sys import stdout, stderr, executable as python\n",
    "\n",
    "from tempfile import NamedTemporaryFile, TemporaryDirectory, TemporaryFile"
   ]
  },
  {
   "cell_type": "markdown",
   "metadata": {},
   "source": [
    "## Sibling modules\n",
    "Some other notebooks and Python files from this repo:"
   ]
  },
  {
   "cell_type": "code",
   "execution_count": 2,
   "metadata": {},
   "outputs": [],
   "source": [
    "import ur"
   ]
  },
  {
   "cell_type": "code",
   "execution_count": 3,
   "metadata": {},
   "outputs": [],
   "source": [
    "import process\n",
    "from process import *\n",
    "\n",
    "import pnds\n",
    "from pnds import *\n",
    "\n",
    "from cd import cd\n",
    "from o import o\n",
    "\n",
    "from git_helpers import *\n",
    "\n",
    "from args_parser import *"
   ]
  },
  {
   "cell_type": "markdown",
   "metadata": {},
   "source": [
    "## Optional Modules"
   ]
  },
  {
   "cell_type": "markdown",
   "metadata": {},
   "source": [
    "Helper for optionally imports:"
   ]
  },
  {
   "cell_type": "code",
   "execution_count": 7,
   "metadata": {},
   "outputs": [],
   "source": [
    "_try = suppress(ImportError, ModuleNotFoundError)"
   ]
  },
  {
   "cell_type": "code",
   "execution_count": 8,
   "metadata": {},
   "outputs": [],
   "source": [
    "# joblib: easy parallelization\n",
    "with _try:\n",
    "    from joblib import Parallel, delayed\n",
    "    parallel = Parallel(n_jobs=cpu_count())\n",
    "\n",
    "\n",
    "with _try: import yaml\n",
    "\n",
    "with _try:\n",
    "    import git\n",
    "    Repo = partial(git.Repo, search_parent_directories=True)\n"
   ]
  },
  {
   "cell_type": "markdown",
   "metadata": {},
   "source": [
    "## PyData / Scientific Python"
   ]
  },
  {
   "cell_type": "code",
   "execution_count": 9,
   "metadata": {},
   "outputs": [],
   "source": [
    "import numpy as np\n",
    "from numpy import concatenate, array, ndarray, matrix, nan"
   ]
  },
  {
   "cell_type": "code",
   "execution_count": 10,
   "metadata": {},
   "outputs": [],
   "source": [
    "with _try: import seaborn as sns\n",
    "with _try: import matplotlib.pyplot as plt\n",
    "with _try: from scipy.sparse import spmatrix, coo_matrix, csr_matrix, csc_matrix"
   ]
  }
 ],
 "metadata": {
  "kernelspec": {
   "display_name": "jupyter-3.8.2",
   "language": "python",
   "name": "jupyter-3.8.2"
  },
  "language_info": {
   "codemirror_mode": {
    "name": "ipython",
    "version": 3
   },
   "file_extension": ".py",
   "mimetype": "text/x-python",
   "name": "python",
   "nbconvert_exporter": "python",
   "pygments_lexer": "ipython3",
   "version": "3.8.2"
  }
 },
 "nbformat": 4,
 "nbformat_minor": 2
}
