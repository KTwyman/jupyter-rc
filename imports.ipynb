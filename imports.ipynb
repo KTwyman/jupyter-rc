{
 "cells": [
  {
   "cell_type": "markdown",
   "metadata": {},
   "source": [
    "Common Jupyter imports and helpers to wildcard import from other notebooks"
   ]
  },
  {
   "cell_type": "code",
   "execution_count": 1,
   "metadata": {},
   "outputs": [],
   "source": [
    "from contextlib import contextmanager, nullcontext, suppress\n",
    "\n",
    "from dataclasses import dataclass\n",
    "\n",
    "from dateutil.parser import parse\n",
    "from datetime import datetime as dt, date\n",
    "from pytz import UTC\n",
    "now = dt.now()\n",
    "today = now.strftime('%Y-%m-%d')\n",
    "\n",
    "from functools import cached_property, partial, lru_cache, namedtuple, reduce, singledispatch, singledispatchmethod\n",
    "\n",
    "from itertools import combinations, combinations_with_replacement, permutations\n",
    "\n",
    "from pathlib import Path\n",
    "\n",
    "from re import match\n",
    "\n",
    "from sys import stdout, stderr, executable as python\n",
    "\n",
    "from os import cpu_count\n",
    "from os.path import dirname, basename"
   ]
  },
  {
   "cell_type": "code",
   "execution_count": 3,
   "metadata": {},
   "outputs": [],
   "source": [
    "import ur\n",
    "import process\n",
    "from process import *"
   ]
  },
  {
   "cell_type": "code",
   "execution_count": null,
   "metadata": {},
   "outputs": [],
   "source": [
    "import pnds\n",
    "from pnds import *"
   ]
  },
  {
   "cell_type": "code",
   "execution_count": null,
   "metadata": {},
   "outputs": [],
   "source": [
    "from cd import cd\n",
    "from o import o"
   ]
  },
  {
   "cell_type": "code",
   "execution_count": null,
   "metadata": {},
   "outputs": [],
   "source": [
    "import numpy as np\n",
    "from numpy import concatenate, array, ndarray, matrix, nan"
   ]
  },
  {
   "cell_type": "code",
   "execution_count": null,
   "metadata": {},
   "outputs": [],
   "source": [
    "_try = suppress(ImportError, ModuleNotFoundError)\n",
    "with _try: import seaborn as sns\n",
    "with _try: import matplotlib.pyplot as plt\n",
    "with _try: from scipy.sparse import spmatrix, coo_matrix, csr_matrix, csc_matrix\n",
    "with _try:\n",
    "    from joblib import Parallel, delayed\n",
    "    parallel = Parallel(n_jobs=cpu_count())"
   ]
  },
  {
   "cell_type": "code",
   "execution_count": null,
   "metadata": {},
   "outputs": [],
   "source": []
  }
 ],
 "metadata": {
  "kernelspec": {
   "display_name": "jupyter-3.8.2",
   "language": "python",
   "name": "jupyter-3.8.2"
  },
  "language_info": {
   "codemirror_mode": {
    "name": "ipython",
    "version": 3
   },
   "file_extension": ".py",
   "mimetype": "text/x-python",
   "name": "python",
   "nbconvert_exporter": "python",
   "pygments_lexer": "ipython3",
   "version": "3.8.2"
  }
 },
 "nbformat": 4,
 "nbformat_minor": 2
}
