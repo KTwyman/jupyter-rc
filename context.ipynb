{
 "cells": [
  {
   "cell_type": "code",
   "execution_count": null,
   "metadata": {},
   "outputs": [],
   "source": [
    "from contextlib import AbstractContextManager, contextmanager, nullcontext, suppress\n",
    "\n",
    "class catch(AbstractContextManager):\n",
    "    def __init__(self, *excs):\n",
    "        self.excs = excs\n",
    "\n",
    "    def __enter__(self, *args):\n",
    "        print(f'__enter__: {args}')\n",
    "        \n",
    "    def __exit__(self, exc_type, exc_value, traceback):\n",
    "        print(f'__exit__: {exc_type=}, {exc_value=} ({isinstance(exc_value, NameError)})')\n",
    "        if not exc_type:\n",
    "            if len(self.excs) == 1:\n",
    "                raise AssertionError(f'No {self.excs[0].__name__} was thrown')\n",
    "            else:\n",
    "                raise AssertionError(f'None of {\",\".join([e.__name__ for e in self.excs])} were thrown')\n",
    "        \n",
    "        if not [ isinstance(exc_value, exc) for exc in self.excs ]:\n",
    "            raise exc_value\n",
    "\n",
    "        return True\n",
    "\n",
    "no = catch(NameError)"
   ]
  }
 ],
 "metadata": {
  "kernelspec": {
   "display_name": "3.8.2",
   "language": "python",
   "name": "3.8.2"
  },
  "language_info": {
   "codemirror_mode": {
    "name": "ipython",
    "version": 3
   },
   "file_extension": ".py",
   "mimetype": "text/x-python",
   "name": "python",
   "nbconvert_exporter": "python",
   "pygments_lexer": "ipython3",
   "version": "3.8.2"
  }
 },
 "nbformat": 4,
 "nbformat_minor": 2
}
